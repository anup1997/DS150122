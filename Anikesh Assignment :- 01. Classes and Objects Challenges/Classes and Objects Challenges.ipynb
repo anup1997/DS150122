{
 "cells": [
  {
   "cell_type": "markdown",
   "id": "3ae1abe5",
   "metadata": {},
   "source": [
    "# Challenge 1: Square Numbers and Return Their Sum\n"
   ]
  },
  {
   "cell_type": "code",
   "execution_count": 13,
   "id": "cd6ea84f",
   "metadata": {},
   "outputs": [
    {
     "name": "stdout",
     "output_type": "stream",
     "text": [
      "Enter x - 1\n",
      "Enter y - 3\n",
      "Enter z - 5\n"
     ]
    },
    {
     "data": {
      "text/plain": [
       "35"
      ]
     },
     "execution_count": 13,
     "metadata": {},
     "output_type": "execute_result"
    }
   ],
   "source": [
    "x = int(input('Enter x - '))\n",
    "y = int(input('Enter y - '))\n",
    "z = int(input('Enter z - '))\n",
    "\n",
    "class Point:\n",
    "    def __init__(self, x, y, z):\n",
    "        self.x = x\n",
    "        self.y = y\n",
    "        self.z = z\n",
    "\n",
    "    def sq_sum(self):\n",
    "        return self.x ** 2 + self.y ** 2 + self.z ** 2\n",
    "\n",
    "s1 = Point(x,y,z)\n",
    "s1.sq_sum()"
   ]
  },
  {
   "cell_type": "markdown",
   "id": "5f724d0f",
   "metadata": {},
   "source": [
    "# Challenge 2: Calculate the Student's Performance"
   ]
  },
  {
   "cell_type": "code",
   "execution_count": 18,
   "id": "ffb088ff",
   "metadata": {},
   "outputs": [
    {
     "name": "stdout",
     "output_type": "stream",
     "text": [
      "Enter name -Tejashri\n",
      "Enter phy marks - 80\n",
      "Enter chem marks -90\n",
      "Enter bio marks -40\n",
      "Total marks obtained - 210\n",
      "Percentage - 70.0\n"
     ]
    }
   ],
   "source": [
    "name = input('Enter name -')\n",
    "phy = int(input('Enter phy marks - '))\n",
    "chem = int(input('Enter chem marks -'))\n",
    "bio = int(input('Enter bio marks -'))\n",
    "        \n",
    "class Student:\n",
    "    def __init__(self, name, phy, chem, bio):\n",
    "        self.name = name\n",
    "        self.phy = phy\n",
    "        self.chem = chem\n",
    "        self.bio = bio\n",
    "        \n",
    "    def Total_Obtained(self):\n",
    "        return self.phy + self.chem + self.bio\n",
    "    \n",
    "    def Percentage(self):\n",
    "        return (Student.Total_Obtained(self) / 300) * 100\n",
    "    \n",
    "studnt = Student(name, phy, chem, bio)\n",
    "print(\"Total marks obtained - {}\".format(studnt.Total_Obtained()))\n",
    "print(\"Percentage - {}\".format(studnt.Percentage()))"
   ]
  },
  {
   "cell_type": "markdown",
   "id": "4fda52d8",
   "metadata": {},
   "source": [
    "# Challenge 3: Implement a Calculator Class"
   ]
  },
  {
   "cell_type": "code",
   "execution_count": 16,
   "id": "eba48cdf",
   "metadata": {},
   "outputs": [
    {
     "name": "stdout",
     "output_type": "stream",
     "text": [
      "Enter num1 - 10\n",
      "Enter num2 - 94\n",
      "addition -  104.0\n",
      "subtraction -  -84.0\n",
      "multiplication -  940.0\n",
      "division -  0.10638297872340426\n"
     ]
    }
   ],
   "source": [
    "num1= float(input('Enter num1 - '))\n",
    "num2= float(input('Enter num2 - '))\n",
    "\n",
    "\n",
    "class Calculator:\n",
    "    def __init__(self, num1, num2):\n",
    "        self.num1 = num1\n",
    "        self.num2 = num2\n",
    "    \n",
    "    def add(self):\n",
    "        return self.num1 + self.num2\n",
    "    def subtract(self):\n",
    "        return self.num1 - self.num2\n",
    "    def multiply(self):\n",
    "        return self.num1 * self.num2\n",
    "    def divide(self):\n",
    "        return self.num1 / self.num2\n",
    "    \n",
    "obj = Calculator(num1, num2)\n",
    "print('addition - ',obj.add())\n",
    "print('subtraction - ',obj.subtract())\n",
    "print('multiplication - ',obj.multiply())\n",
    "print('division - ',obj.divide())"
   ]
  },
  {
   "cell_type": "code",
   "execution_count": null,
   "id": "ebd999c7",
   "metadata": {},
   "outputs": [],
   "source": []
  }
 ],
 "metadata": {
  "kernelspec": {
   "display_name": "Python 3 (ipykernel)",
   "language": "python",
   "name": "python3"
  },
  "language_info": {
   "codemirror_mode": {
    "name": "ipython",
    "version": 3
   },
   "file_extension": ".py",
   "mimetype": "text/x-python",
   "name": "python",
   "nbconvert_exporter": "python",
   "pygments_lexer": "ipython3",
   "version": "3.9.7"
  }
 },
 "nbformat": 4,
 "nbformat_minor": 5
}
