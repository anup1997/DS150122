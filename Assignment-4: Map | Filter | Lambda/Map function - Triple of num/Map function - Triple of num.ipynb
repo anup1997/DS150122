{
 "cells": [
  {
   "cell_type": "code",
   "execution_count": 8,
   "id": "cd64dcf3",
   "metadata": {},
   "outputs": [
    {
     "name": "stdout",
     "output_type": "stream",
     "text": [
      "Triple of numbers - \n",
      "[3, 6, 9, 12, 15, 18, 21]\n"
     ]
    }
   ],
   "source": [
    "num = (1, 2, 3, 4, 5, 6, 7) \n",
    "result = map(lambda a: 3*a, num) \n",
    "print(\"Triple of numbers - \")\n",
    "print(list(result))"
   ]
  }
 ],
 "metadata": {
  "kernelspec": {
   "display_name": "Python 3 (ipykernel)",
   "language": "python",
   "name": "python3"
  },
  "language_info": {
   "codemirror_mode": {
    "name": "ipython",
    "version": 3
   },
   "file_extension": ".py",
   "mimetype": "text/x-python",
   "name": "python",
   "nbconvert_exporter": "python",
   "pygments_lexer": "ipython3",
   "version": "3.9.7"
  }
 },
 "nbformat": 4,
 "nbformat_minor": 5
}
