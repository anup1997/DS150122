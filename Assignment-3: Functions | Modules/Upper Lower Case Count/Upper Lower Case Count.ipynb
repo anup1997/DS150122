{
 "cells": [
  {
   "cell_type": "code",
   "execution_count": 2,
   "id": "090bc87c",
   "metadata": {},
   "outputs": [
    {
     "name": "stdout",
     "output_type": "stream",
     "text": [
      "String -  The quick Brow Fox\n",
      "Upper case count -  3\n",
      "Lower case count -  12\n"
     ]
    }
   ],
   "source": [
    "def upper_lower_case_count(string):\n",
    "    \n",
    "    upper_case = 0\n",
    "    lower_case = 0\n",
    "    \n",
    "    for i in string:\n",
    "        if i.isupper():\n",
    "            upper_case += 1\n",
    "        elif i.islower():\n",
    "            lower_case += 1\n",
    "        else:\n",
    "            continue\n",
    "    \n",
    "    print (\"String - \", string)\n",
    "    print (\"Upper case count - \", upper_case)\n",
    "    print (\"Lower case count - \", lower_case)\n",
    "\n",
    "upper_lower_case_count(\"The quick Brow Fox\")"
   ]
  },
  {
   "cell_type": "code",
   "execution_count": null,
   "id": "9892deb1",
   "metadata": {},
   "outputs": [],
   "source": []
  }
 ],
 "metadata": {
  "kernelspec": {
   "display_name": "Python 3 (ipykernel)",
   "language": "python",
   "name": "python3"
  },
  "language_info": {
   "codemirror_mode": {
    "name": "ipython",
    "version": 3
   },
   "file_extension": ".py",
   "mimetype": "text/x-python",
   "name": "python",
   "nbconvert_exporter": "python",
   "pygments_lexer": "ipython3",
   "version": "3.9.7"
  }
 },
 "nbformat": 4,
 "nbformat_minor": 5
}
